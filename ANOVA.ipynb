{
 "cells": [
  {
   "cell_type": "markdown",
   "metadata": {
    "id": "Z4FqJsRtKQ3b"
   },
   "source": [
    "# One-way and two-way ANOVA"
   ]
  },
  {
   "cell_type": "code",
   "execution_count": 2,
   "metadata": {
    "id": "ifLUxSYJ_9pX"
   },
   "outputs": [],
   "source": [
    "import pandas as pd\n",
    "import seaborn as sns"
   ]
  },
  {
   "cell_type": "code",
   "execution_count": 3,
   "metadata": {
    "colab": {
     "base_uri": "https://localhost:8080/",
     "height": 206
    },
    "executionInfo": {
     "elapsed": 447,
     "status": "ok",
     "timestamp": 1660055546511,
     "user": {
      "displayName": "Rebecca Weng",
      "userId": "08002348150894593460"
     },
     "user_tz": 240
    },
    "id": "VP6w9d7nCf8S",
    "outputId": "05070c23-2c03-436e-b874-1c957fc12eea"
   },
   "outputs": [
    {
     "data": {
      "text/html": [
       "<div>\n",
       "<style scoped>\n",
       "    .dataframe tbody tr th:only-of-type {\n",
       "        vertical-align: middle;\n",
       "    }\n",
       "\n",
       "    .dataframe tbody tr th {\n",
       "        vertical-align: top;\n",
       "    }\n",
       "\n",
       "    .dataframe thead th {\n",
       "        text-align: right;\n",
       "    }\n",
       "</style>\n",
       "<table border=\"1\" class=\"dataframe\">\n",
       "  <thead>\n",
       "    <tr style=\"text-align: right;\">\n",
       "      <th></th>\n",
       "      <th>carat</th>\n",
       "      <th>cut</th>\n",
       "      <th>color</th>\n",
       "      <th>clarity</th>\n",
       "      <th>depth</th>\n",
       "      <th>table</th>\n",
       "      <th>price</th>\n",
       "      <th>x</th>\n",
       "      <th>y</th>\n",
       "      <th>z</th>\n",
       "    </tr>\n",
       "  </thead>\n",
       "  <tbody>\n",
       "    <tr>\n",
       "      <th>0</th>\n",
       "      <td>0.23</td>\n",
       "      <td>Ideal</td>\n",
       "      <td>E</td>\n",
       "      <td>SI2</td>\n",
       "      <td>61.5</td>\n",
       "      <td>55.0</td>\n",
       "      <td>326</td>\n",
       "      <td>3.95</td>\n",
       "      <td>3.98</td>\n",
       "      <td>2.43</td>\n",
       "    </tr>\n",
       "    <tr>\n",
       "      <th>1</th>\n",
       "      <td>0.21</td>\n",
       "      <td>Premium</td>\n",
       "      <td>E</td>\n",
       "      <td>SI1</td>\n",
       "      <td>59.8</td>\n",
       "      <td>61.0</td>\n",
       "      <td>326</td>\n",
       "      <td>3.89</td>\n",
       "      <td>3.84</td>\n",
       "      <td>2.31</td>\n",
       "    </tr>\n",
       "    <tr>\n",
       "      <th>2</th>\n",
       "      <td>0.23</td>\n",
       "      <td>Good</td>\n",
       "      <td>E</td>\n",
       "      <td>VS1</td>\n",
       "      <td>56.9</td>\n",
       "      <td>65.0</td>\n",
       "      <td>327</td>\n",
       "      <td>4.05</td>\n",
       "      <td>4.07</td>\n",
       "      <td>2.31</td>\n",
       "    </tr>\n",
       "    <tr>\n",
       "      <th>3</th>\n",
       "      <td>0.29</td>\n",
       "      <td>Premium</td>\n",
       "      <td>I</td>\n",
       "      <td>VS2</td>\n",
       "      <td>62.4</td>\n",
       "      <td>58.0</td>\n",
       "      <td>334</td>\n",
       "      <td>4.20</td>\n",
       "      <td>4.23</td>\n",
       "      <td>2.63</td>\n",
       "    </tr>\n",
       "    <tr>\n",
       "      <th>4</th>\n",
       "      <td>0.31</td>\n",
       "      <td>Good</td>\n",
       "      <td>J</td>\n",
       "      <td>SI2</td>\n",
       "      <td>63.3</td>\n",
       "      <td>58.0</td>\n",
       "      <td>335</td>\n",
       "      <td>4.34</td>\n",
       "      <td>4.35</td>\n",
       "      <td>2.75</td>\n",
       "    </tr>\n",
       "  </tbody>\n",
       "</table>\n",
       "</div>"
      ],
      "text/plain": [
       "   carat      cut color clarity  depth  table  price     x     y     z\n",
       "0   0.23    Ideal     E     SI2   61.5   55.0    326  3.95  3.98  2.43\n",
       "1   0.21  Premium     E     SI1   59.8   61.0    326  3.89  3.84  2.31\n",
       "2   0.23     Good     E     VS1   56.9   65.0    327  4.05  4.07  2.31\n",
       "3   0.29  Premium     I     VS2   62.4   58.0    334  4.20  4.23  2.63\n",
       "4   0.31     Good     J     SI2   63.3   58.0    335  4.34  4.35  2.75"
      ]
     },
     "execution_count": 3,
     "metadata": {},
     "output_type": "execute_result"
    }
   ],
   "source": [
    "diamonds = sns.load_dataset(\"diamonds\", cache=False)\n",
    "diamonds.head()"
   ]
  },
  {
   "cell_type": "code",
   "execution_count": 4,
   "metadata": {
    "colab": {
     "base_uri": "https://localhost:8080/"
    },
    "executionInfo": {
     "elapsed": 12,
     "status": "ok",
     "timestamp": 1660055548581,
     "user": {
      "displayName": "Rebecca Weng",
      "userId": "08002348150894593460"
     },
     "user_tz": 240
    },
    "id": "BGREMwuGCjd0",
    "outputId": "8298ed77-0ebb-45f3-8cb4-50abc31d6545"
   },
   "outputs": [
    {
     "data": {
      "text/plain": [
       "color\n",
       "G    11292\n",
       "E     9797\n",
       "F     9542\n",
       "H     8304\n",
       "D     6775\n",
       "I     5422\n",
       "J     2808\n",
       "Name: count, dtype: int64"
      ]
     },
     "execution_count": 4,
     "metadata": {},
     "output_type": "execute_result"
    }
   ],
   "source": [
    "diamonds[\"color\"].value_counts()"
   ]
  },
  {
   "cell_type": "code",
   "execution_count": 5,
   "metadata": {
    "id": "-U0vR9_ICrUx"
   },
   "outputs": [],
   "source": [
    "colorless = diamonds[diamonds[\"color\"].isin([\"E\",\"F\",\"H\",\"D\",\"I\"])]\n",
    "colorless = colorless[[\"color\",\"price\"]].reset_index(drop=True)"
   ]
  },
  {
   "cell_type": "code",
   "execution_count": 6,
   "metadata": {
    "colab": {
     "base_uri": "https://localhost:8080/"
    },
    "executionInfo": {
     "elapsed": 165,
     "status": "ok",
     "timestamp": 1660055551942,
     "user": {
      "displayName": "Rebecca Weng",
      "userId": "08002348150894593460"
     },
     "user_tz": 240
    },
    "id": "jxoUu63k-f1r",
    "outputId": "997a79ef-c075-499a-f3c8-0b3a99ec2195"
   },
   "outputs": [
    {
     "data": {
      "text/plain": [
       "['E', 'E', 'E', 'I', 'I', ..., 'D', 'D', 'D', 'H', 'D']\n",
       "Length: 39840\n",
       "Categories (5, object): ['D', 'E', 'F', 'H', 'I']"
      ]
     },
     "execution_count": 6,
     "metadata": {},
     "output_type": "execute_result"
    }
   ],
   "source": [
    "colorless.color = colorless.color.cat.remove_categories([\"G\",\"J\"])\n",
    "colorless[\"color\"].values"
   ]
  },
  {
   "cell_type": "code",
   "execution_count": 7,
   "metadata": {
    "id": "ZQ5aCgJjC1Np"
   },
   "outputs": [],
   "source": [
    "import math\n",
    "\n",
    "# Take the logarithm of the price, and insert it as the third column\n",
    "colorless.insert(2, \"log_price\", [math.log(price) for price in colorless[\"price\"]])"
   ]
  },
  {
   "cell_type": "code",
   "execution_count": 8,
   "metadata": {
    "id": "-g1KvMqnC5UV"
   },
   "outputs": [],
   "source": [
    "colorless.dropna(inplace=True)\n",
    "colorless.reset_index(inplace=True, drop=True)"
   ]
  },
  {
   "cell_type": "code",
   "execution_count": 9,
   "metadata": {
    "colab": {
     "base_uri": "https://localhost:8080/",
     "height": 206
    },
    "executionInfo": {
     "elapsed": 235,
     "status": "ok",
     "timestamp": 1660055554087,
     "user": {
      "displayName": "Rebecca Weng",
      "userId": "08002348150894593460"
     },
     "user_tz": 240
    },
    "id": "-HS7XWb4-6ID",
    "outputId": "e55492b9-07bd-46c6-9e92-f64203321b80"
   },
   "outputs": [
    {
     "data": {
      "text/html": [
       "<div>\n",
       "<style scoped>\n",
       "    .dataframe tbody tr th:only-of-type {\n",
       "        vertical-align: middle;\n",
       "    }\n",
       "\n",
       "    .dataframe tbody tr th {\n",
       "        vertical-align: top;\n",
       "    }\n",
       "\n",
       "    .dataframe thead th {\n",
       "        text-align: right;\n",
       "    }\n",
       "</style>\n",
       "<table border=\"1\" class=\"dataframe\">\n",
       "  <thead>\n",
       "    <tr style=\"text-align: right;\">\n",
       "      <th></th>\n",
       "      <th>color</th>\n",
       "      <th>price</th>\n",
       "      <th>log_price</th>\n",
       "    </tr>\n",
       "  </thead>\n",
       "  <tbody>\n",
       "    <tr>\n",
       "      <th>0</th>\n",
       "      <td>E</td>\n",
       "      <td>326</td>\n",
       "      <td>5.786897</td>\n",
       "    </tr>\n",
       "    <tr>\n",
       "      <th>1</th>\n",
       "      <td>E</td>\n",
       "      <td>326</td>\n",
       "      <td>5.786897</td>\n",
       "    </tr>\n",
       "    <tr>\n",
       "      <th>2</th>\n",
       "      <td>E</td>\n",
       "      <td>327</td>\n",
       "      <td>5.789960</td>\n",
       "    </tr>\n",
       "    <tr>\n",
       "      <th>3</th>\n",
       "      <td>I</td>\n",
       "      <td>334</td>\n",
       "      <td>5.811141</td>\n",
       "    </tr>\n",
       "    <tr>\n",
       "      <th>4</th>\n",
       "      <td>I</td>\n",
       "      <td>336</td>\n",
       "      <td>5.817111</td>\n",
       "    </tr>\n",
       "  </tbody>\n",
       "</table>\n",
       "</div>"
      ],
      "text/plain": [
       "  color  price  log_price\n",
       "0     E    326   5.786897\n",
       "1     E    326   5.786897\n",
       "2     E    327   5.789960\n",
       "3     I    334   5.811141\n",
       "4     I    336   5.817111"
      ]
     },
     "execution_count": 9,
     "metadata": {},
     "output_type": "execute_result"
    }
   ],
   "source": [
    "colorless.head()"
   ]
  },
  {
   "cell_type": "code",
   "execution_count": 10,
   "metadata": {
    "id": "6aVkIKm9Dbja"
   },
   "outputs": [],
   "source": [
    "colorless.to_csv('diamonds.csv',index=False,header=list(colorless.columns))"
   ]
  },
  {
   "cell_type": "markdown",
   "metadata": {
    "id": "dtGjffzuD3zX"
   },
   "source": [
    "## One-way ANOVA"
   ]
  },
  {
   "cell_type": "code",
   "execution_count": 11,
   "metadata": {
    "id": "F9a6ASM_Dwvr"
   },
   "outputs": [],
   "source": [
    "diamonds = pd.read_csv(\"diamonds.csv\")"
   ]
  },
  {
   "cell_type": "code",
   "execution_count": 12,
   "metadata": {
    "colab": {
     "base_uri": "https://localhost:8080/",
     "height": 206
    },
    "executionInfo": {
     "elapsed": 201,
     "status": "ok",
     "timestamp": 1660055558401,
     "user": {
      "displayName": "Rebecca Weng",
      "userId": "08002348150894593460"
     },
     "user_tz": 240
    },
    "id": "nWI2R1QvEZ3O",
    "outputId": "31cbc052-3962-4887-fe9d-f2856389266b"
   },
   "outputs": [
    {
     "data": {
      "text/html": [
       "<div>\n",
       "<style scoped>\n",
       "    .dataframe tbody tr th:only-of-type {\n",
       "        vertical-align: middle;\n",
       "    }\n",
       "\n",
       "    .dataframe tbody tr th {\n",
       "        vertical-align: top;\n",
       "    }\n",
       "\n",
       "    .dataframe thead th {\n",
       "        text-align: right;\n",
       "    }\n",
       "</style>\n",
       "<table border=\"1\" class=\"dataframe\">\n",
       "  <thead>\n",
       "    <tr style=\"text-align: right;\">\n",
       "      <th></th>\n",
       "      <th>color</th>\n",
       "      <th>price</th>\n",
       "      <th>log_price</th>\n",
       "    </tr>\n",
       "  </thead>\n",
       "  <tbody>\n",
       "    <tr>\n",
       "      <th>0</th>\n",
       "      <td>E</td>\n",
       "      <td>326</td>\n",
       "      <td>5.786897</td>\n",
       "    </tr>\n",
       "    <tr>\n",
       "      <th>1</th>\n",
       "      <td>E</td>\n",
       "      <td>326</td>\n",
       "      <td>5.786897</td>\n",
       "    </tr>\n",
       "    <tr>\n",
       "      <th>2</th>\n",
       "      <td>E</td>\n",
       "      <td>327</td>\n",
       "      <td>5.789960</td>\n",
       "    </tr>\n",
       "    <tr>\n",
       "      <th>3</th>\n",
       "      <td>I</td>\n",
       "      <td>334</td>\n",
       "      <td>5.811141</td>\n",
       "    </tr>\n",
       "    <tr>\n",
       "      <th>4</th>\n",
       "      <td>I</td>\n",
       "      <td>336</td>\n",
       "      <td>5.817111</td>\n",
       "    </tr>\n",
       "  </tbody>\n",
       "</table>\n",
       "</div>"
      ],
      "text/plain": [
       "  color  price  log_price\n",
       "0     E    326   5.786897\n",
       "1     E    326   5.786897\n",
       "2     E    327   5.789960\n",
       "3     I    334   5.811141\n",
       "4     I    336   5.817111"
      ]
     },
     "execution_count": 12,
     "metadata": {},
     "output_type": "execute_result"
    }
   ],
   "source": [
    "diamonds.head()"
   ]
  },
  {
   "cell_type": "code",
   "execution_count": 13,
   "metadata": {
    "colab": {
     "base_uri": "https://localhost:8080/",
     "height": 299
    },
    "executionInfo": {
     "elapsed": 392,
     "status": "ok",
     "timestamp": 1660055559426,
     "user": {
      "displayName": "Rebecca Weng",
      "userId": "08002348150894593460"
     },
     "user_tz": 240
    },
    "id": "9fgfLRDwESYX",
    "outputId": "044eceb3-88bd-4542-b498-9b11106ed32f"
   },
   "outputs": [
    {
     "data": {
      "text/plain": [
       "<Axes: xlabel='color', ylabel='log_price'>"
      ]
     },
     "execution_count": 13,
     "metadata": {},
     "output_type": "execute_result"
    },
    {
     "data": {
      "image/png": "[encoded data removed]",
      "text/plain": [
       "<Figure size 640x480 with 1 Axes>"
      ]
     },
     "metadata": {},
     "output_type": "display_data"
    }
   ],
   "source": [
    "sns.boxplot(x = \"color\", y = \"log_price\", data = diamonds)"
   ]
  },
  {
   "cell_type": "code",
   "execution_count": 14,
   "metadata": {
    "colab": {
     "base_uri": "https://localhost:8080/"
    },
    "executionInfo": {
     "elapsed": 1036,
     "status": "ok",
     "timestamp": 1660055561174,
     "user": {
      "displayName": "Rebecca Weng",
      "userId": "08002348150894593460"
     },
     "user_tz": 240
    },
    "id": "OIiV4AuEE832",
    "outputId": "29705e75-41ca-4317-fd63-4fc6db6c70cc"
   },
   "outputs": [],
   "source": [
    "import statsmodels.api as sm\n",
    "from statsmodels.formula.api import ols"
   ]
  },
  {
   "cell_type": "code",
   "execution_count": 15,
   "metadata": {
    "id": "n5BdKC_iFEL2"
   },
   "outputs": [],
   "source": [
    "model = ols(formula = \"log_price ~ C(color)\", data = diamonds).fit()"
   ]
  },
  {
   "cell_type": "code",
   "execution_count": 16,
   "metadata": {
    "colab": {
     "base_uri": "https://localhost:8080/",
     "height": 507
    },
    "executionInfo": {
     "elapsed": 189,
     "status": "ok",
     "timestamp": 1660055563044,
     "user": {
      "displayName": "Rebecca Weng",
      "userId": "08002348150894593460"
     },
     "user_tz": 240
    },
    "id": "kcck8PZ0BOVh",
    "outputId": "02414120-5526-4b13-ed98-ecb1abf77a99"
   },
   "outputs": [
    {
     "data": {
      "text/html": [
       "<table class=\"simpletable\">\n",
       "<caption>OLS Regression Results</caption>\n",
       "<tr>\n",
       "  <th>Dep. Variable:</th>        <td>log_price</td>    <th>  R-squared:         </th> <td>   0.026</td> \n",
       "</tr>\n",
       "<tr>\n",
       "  <th>Model:</th>                   <td>OLS</td>       <th>  Adj. R-squared:    </th> <td>   0.026</td> \n",
       "</tr>\n",
       "<tr>\n",
       "  <th>Method:</th>             <td>Least Squares</td>  <th>  F-statistic:       </th> <td>   265.0</td> \n",
       "</tr>\n",
       "<tr>\n",
       "  <th>Date:</th>             <td>Tue, 27 Aug 2024</td> <th>  Prob (F-statistic):</th> <td>3.61e-225</td>\n",
       "</tr>\n",
       "<tr>\n",
       "  <th>Time:</th>                 <td>12:33:50</td>     <th>  Log-Likelihood:    </th> <td> -56182.</td> \n",
       "</tr>\n",
       "<tr>\n",
       "  <th>No. Observations:</th>      <td> 39840</td>      <th>  AIC:               </th> <td>1.124e+05</td>\n",
       "</tr>\n",
       "<tr>\n",
       "  <th>Df Residuals:</th>          <td> 39835</td>      <th>  BIC:               </th> <td>1.124e+05</td>\n",
       "</tr>\n",
       "<tr>\n",
       "  <th>Df Model:</th>              <td>     4</td>      <th>                     </th>     <td> </td>    \n",
       "</tr>\n",
       "<tr>\n",
       "  <th>Covariance Type:</th>      <td>nonrobust</td>    <th>                     </th>     <td> </td>    \n",
       "</tr>\n",
       "</table>\n",
       "<table class=\"simpletable\">\n",
       "<tr>\n",
       "        <td></td>           <th>coef</th>     <th>std err</th>      <th>t</th>      <th>P>|t|</th>  <th>[0.025</th>    <th>0.975]</th>  \n",
       "</tr>\n",
       "<tr>\n",
       "  <th>Intercept</th>     <td>    7.6169</td> <td>    0.012</td> <td>  632.421</td> <td> 0.000</td> <td>    7.593</td> <td>    7.641</td>\n",
       "</tr>\n",
       "<tr>\n",
       "  <th>C(color)[T.E]</th> <td>   -0.0375</td> <td>    0.016</td> <td>   -2.394</td> <td> 0.017</td> <td>   -0.068</td> <td>   -0.007</td>\n",
       "</tr>\n",
       "<tr>\n",
       "  <th>C(color)[T.F]</th> <td>    0.1455</td> <td>    0.016</td> <td>    9.240</td> <td> 0.000</td> <td>    0.115</td> <td>    0.176</td>\n",
       "</tr>\n",
       "<tr>\n",
       "  <th>C(color)[T.H]</th> <td>    0.3015</td> <td>    0.016</td> <td>   18.579</td> <td> 0.000</td> <td>    0.270</td> <td>    0.333</td>\n",
       "</tr>\n",
       "<tr>\n",
       "  <th>C(color)[T.I]</th> <td>    0.4061</td> <td>    0.018</td> <td>   22.479</td> <td> 0.000</td> <td>    0.371</td> <td>    0.441</td>\n",
       "</tr>\n",
       "</table>\n",
       "<table class=\"simpletable\">\n",
       "<tr>\n",
       "  <th>Omnibus:</th>       <td>7112.992</td> <th>  Durbin-Watson:     </th> <td>   0.065</td>\n",
       "</tr>\n",
       "<tr>\n",
       "  <th>Prob(Omnibus):</th>  <td> 0.000</td>  <th>  Jarque-Bera (JB):  </th> <td>1542.881</td>\n",
       "</tr>\n",
       "<tr>\n",
       "  <th>Skew:</th>           <td> 0.079</td>  <th>  Prob(JB):          </th> <td>    0.00</td>\n",
       "</tr>\n",
       "<tr>\n",
       "  <th>Kurtosis:</th>       <td> 2.049</td>  <th>  Cond. No.          </th> <td>    6.32</td>\n",
       "</tr>\n",
       "</table><br/><br/>Notes:<br/>[1] Standard Errors assume that the covariance matrix of the errors is correctly specified."
      ],
      "text/latex": [
       "\\begin{center}\n",
       "\\begin{tabular}{lclc}\n",
       "\\toprule\n",
       "\\textbf{Dep. Variable:}    &    log\\_price    & \\textbf{  R-squared:         } &     0.026   \\\\\n",
       "\\textbf{Model:}            &       OLS        & \\textbf{  Adj. R-squared:    } &     0.026   \\\\\n",
       "\\textbf{Method:}           &  Least Squares   & \\textbf{  F-statistic:       } &     265.0   \\\\\n",
       "\\textbf{Date:}             & Tue, 27 Aug 2024 & \\textbf{  Prob (F-statistic):} & 3.61e-225   \\\\\n",
       "\\textbf{Time:}             &     12:33:50     & \\textbf{  Log-Likelihood:    } &   -56182.   \\\\\n",
       "\\textbf{No. Observations:} &       39840      & \\textbf{  AIC:               } & 1.124e+05   \\\\\n",
       "\\textbf{Df Residuals:}     &       39835      & \\textbf{  BIC:               } & 1.124e+05   \\\\\n",
       "\\textbf{Df Model:}         &           4      & \\textbf{                     } &             \\\\\n",
       "\\textbf{Covariance Type:}  &    nonrobust     & \\textbf{                     } &             \\\\\n",
       "\\bottomrule\n",
       "\\end{tabular}\n",
       "\\begin{tabular}{lcccccc}\n",
       "                       & \\textbf{coef} & \\textbf{std err} & \\textbf{t} & \\textbf{P$> |$t$|$} & \\textbf{[0.025} & \\textbf{0.975]}  \\\\\n",
       "\\midrule\n",
       "\\textbf{Intercept}     &       7.6169  &        0.012     &   632.421  &         0.000        &        7.593    &        7.641     \\\\\n",
       "\\textbf{C(color)[T.E]} &      -0.0375  &        0.016     &    -2.394  &         0.017        &       -0.068    &       -0.007     \\\\\n",
       "\\textbf{C(color)[T.F]} &       0.1455  &        0.016     &     9.240  &         0.000        &        0.115    &        0.176     \\\\\n",
       "\\textbf{C(color)[T.H]} &       0.3015  &        0.016     &    18.579  &         0.000        &        0.270    &        0.333     \\\\\n",
       "\\textbf{C(color)[T.I]} &       0.4061  &        0.018     &    22.479  &         0.000        &        0.371    &        0.441     \\\\\n",
       "\\bottomrule\n",
       "\\end{tabular}\n",
       "\\begin{tabular}{lclc}\n",
       "\\textbf{Omnibus:}       & 7112.992 & \\textbf{  Durbin-Watson:     } &    0.065  \\\\\n",
       "\\textbf{Prob(Omnibus):} &   0.000  & \\textbf{  Jarque-Bera (JB):  } & 1542.881  \\\\\n",
       "\\textbf{Skew:}          &   0.079  & \\textbf{  Prob(JB):          } &     0.00  \\\\\n",
       "\\textbf{Kurtosis:}      &   2.049  & \\textbf{  Cond. No.          } &     6.32  \\\\\n",
       "\\bottomrule\n",
       "\\end{tabular}\n",
       "%\\caption{OLS Regression Results}\n",
       "\\end{center}\n",
       "\n",
       "Notes: \\newline\n",
       " [1] Standard Errors assume that the covariance matrix of the errors is correctly specified."
      ],
      "text/plain": [
       "<class 'statsmodels.iolib.summary.Summary'>\n",
       "\"\"\"\n",
       "                            OLS Regression Results                            \n",
       "==============================================================================\n",
       "Dep. Variable:              log_price   R-squared:                       0.026\n",
       "Model:                            OLS   Adj. R-squared:                  0.026\n",
       "Method:                 Least Squares   F-statistic:                     265.0\n",
       "Date:                Tue, 27 Aug 2024   Prob (F-statistic):          3.61e-225\n",
       "Time:                        12:33:50   Log-Likelihood:                -56182.\n",
       "No. Observations:               39840   AIC:                         1.124e+05\n",
       "Df Residuals:                   39835   BIC:                         1.124e+05\n",
       "Df Model:                           4                                         \n",
       "Covariance Type:            nonrobust                                         \n",
       "=================================================================================\n",
       "                    coef    std err          t      P>|t|      [0.025      0.975]\n",
       "---------------------------------------------------------------------------------\n",
       "Intercept         7.6169      0.012    632.421      0.000       7.593       7.641\n",
       "C(color)[T.E]    -0.0375      0.016     -2.394      0.017      -0.068      -0.007\n",
       "C(color)[T.F]     0.1455      0.016      9.240      0.000       0.115       0.176\n",
       "C(color)[T.H]     0.3015      0.016     18.579      0.000       0.270       0.333\n",
       "C(color)[T.I]     0.4061      0.018     22.479      0.000       0.371       0.441\n",
       "==============================================================================\n",
       "Omnibus:                     7112.992   Durbin-Watson:                   0.065\n",
       "Prob(Omnibus):                  0.000   Jarque-Bera (JB):             1542.881\n",
       "Skew:                           0.079   Prob(JB):                         0.00\n",
       "Kurtosis:                       2.049   Cond. No.                         6.32\n",
       "==============================================================================\n",
       "\n",
       "Notes:\n",
       "[1] Standard Errors assume that the covariance matrix of the errors is correctly specified.\n",
       "\"\"\""
      ]
     },
     "execution_count": 16,
     "metadata": {},
     "output_type": "execute_result"
    }
   ],
   "source": [
    "model.summary()"
   ]
  },
  {
   "cell_type": "markdown",
   "metadata": {
    "id": "xgCwsMmrBzY3"
   },
   "source": [
    "#### Null Hypothesis\n",
    "\n",
    "$$H_0: price_D=price_E=price_F=price_H=price_I$$\n",
    "\n",
    "There is no difference in the price of diamonds based on color grade.\n",
    "\n",
    "#### Alternative Hypothesis\n",
    "\n",
    "$$H_1: \\text{Not } price_D=price_E=price_F=price_H=price_I$$\n",
    "\n"
   ]
  },
  {
   "cell_type": "code",
   "execution_count": 17,
   "metadata": {
    "colab": {
     "base_uri": "https://localhost:8080/",
     "height": 112
    },
    "executionInfo": {
     "elapsed": 184,
     "status": "ok",
     "timestamp": 1660055974507,
     "user": {
      "displayName": "Rebecca Weng",
      "userId": "08002348150894593460"
     },
     "user_tz": 240
    },
    "id": "wvxsFJbtFY8p",
    "outputId": "60203dac-f2ce-4e0a-d6d0-aea6493bb088"
   },
   "outputs": [
    {
     "data": {
      "text/html": [
       "<div>\n",
       "<style scoped>\n",
       "    .dataframe tbody tr th:only-of-type {\n",
       "        vertical-align: middle;\n",
       "    }\n",
       "\n",
       "    .dataframe tbody tr th {\n",
       "        vertical-align: top;\n",
       "    }\n",
       "\n",
       "    .dataframe thead th {\n",
       "        text-align: right;\n",
       "    }\n",
       "</style>\n",
       "<table border=\"1\" class=\"dataframe\">\n",
       "  <thead>\n",
       "    <tr style=\"text-align: right;\">\n",
       "      <th></th>\n",
       "      <th>sum_sq</th>\n",
       "      <th>df</th>\n",
       "      <th>F</th>\n",
       "      <th>PR(&gt;F)</th>\n",
       "    </tr>\n",
       "  </thead>\n",
       "  <tbody>\n",
       "    <tr>\n",
       "      <th>C(color)</th>\n",
       "      <td>1041.690290</td>\n",
       "      <td>4.0</td>\n",
       "      <td>264.987395</td>\n",
       "      <td>3.609774e-225</td>\n",
       "    </tr>\n",
       "    <tr>\n",
       "      <th>Residual</th>\n",
       "      <td>39148.779822</td>\n",
       "      <td>39835.0</td>\n",
       "      <td>NaN</td>\n",
       "      <td>NaN</td>\n",
       "    </tr>\n",
       "  </tbody>\n",
       "</table>\n",
       "</div>"
      ],
      "text/plain": [
       "                sum_sq       df           F         PR(>F)\n",
       "C(color)   1041.690290      4.0  264.987395  3.609774e-225\n",
       "Residual  39148.779822  39835.0         NaN            NaN"
      ]
     },
     "execution_count": 17,
     "metadata": {},
     "output_type": "execute_result"
    }
   ],
   "source": [
    "# one-way ANOVA\n",
    "sm.stats.anova_lm(model, typ = 2)"
   ]
  },
  {
   "cell_type": "code",
   "execution_count": 18,
   "metadata": {},
   "outputs": [
    {
     "data": {
      "text/html": [
       "<div>\n",
       "<style scoped>\n",
       "    .dataframe tbody tr th:only-of-type {\n",
       "        vertical-align: middle;\n",
       "    }\n",
       "\n",
       "    .dataframe tbody tr th {\n",
       "        vertical-align: top;\n",
       "    }\n",
       "\n",
       "    .dataframe thead th {\n",
       "        text-align: right;\n",
       "    }\n",
       "</style>\n",
       "<table border=\"1\" class=\"dataframe\">\n",
       "  <thead>\n",
       "    <tr style=\"text-align: right;\">\n",
       "      <th></th>\n",
       "      <th>df</th>\n",
       "      <th>sum_sq</th>\n",
       "      <th>mean_sq</th>\n",
       "      <th>F</th>\n",
       "      <th>PR(&gt;F)</th>\n",
       "    </tr>\n",
       "  </thead>\n",
       "  <tbody>\n",
       "    <tr>\n",
       "      <th>C(color)</th>\n",
       "      <td>4.0</td>\n",
       "      <td>1041.690290</td>\n",
       "      <td>260.422572</td>\n",
       "      <td>264.987395</td>\n",
       "      <td>3.609774e-225</td>\n",
       "    </tr>\n",
       "    <tr>\n",
       "      <th>Residual</th>\n",
       "      <td>39835.0</td>\n",
       "      <td>39148.779822</td>\n",
       "      <td>0.982773</td>\n",
       "      <td>NaN</td>\n",
       "      <td>NaN</td>\n",
       "    </tr>\n",
       "  </tbody>\n",
       "</table>\n",
       "</div>"
      ],
      "text/plain": [
       "               df        sum_sq     mean_sq           F         PR(>F)\n",
       "C(color)      4.0   1041.690290  260.422572  264.987395  3.609774e-225\n",
       "Residual  39835.0  39148.779822    0.982773         NaN            NaN"
      ]
     },
     "execution_count": 18,
     "metadata": {},
     "output_type": "execute_result"
    }
   ],
   "source": [
    "sm.stats.anova_lm(model, typ = 1)"
   ]
  },
  {
   "cell_type": "code",
   "execution_count": 19,
   "metadata": {},
   "outputs": [
    {
     "data": {
      "text/html": [
       "<div>\n",
       "<style scoped>\n",
       "    .dataframe tbody tr th:only-of-type {\n",
       "        vertical-align: middle;\n",
       "    }\n",
       "\n",
       "    .dataframe tbody tr th {\n",
       "        vertical-align: top;\n",
       "    }\n",
       "\n",
       "    .dataframe thead th {\n",
       "        text-align: right;\n",
       "    }\n",
       "</style>\n",
       "<table border=\"1\" class=\"dataframe\">\n",
       "  <thead>\n",
       "    <tr style=\"text-align: right;\">\n",
       "      <th></th>\n",
       "      <th>sum_sq</th>\n",
       "      <th>df</th>\n",
       "      <th>F</th>\n",
       "      <th>PR(&gt;F)</th>\n",
       "    </tr>\n",
       "  </thead>\n",
       "  <tbody>\n",
       "    <tr>\n",
       "      <th>Intercept</th>\n",
       "      <td>393066.804852</td>\n",
       "      <td>1.0</td>\n",
       "      <td>399956.684283</td>\n",
       "      <td>0.000000e+00</td>\n",
       "    </tr>\n",
       "    <tr>\n",
       "      <th>C(color)</th>\n",
       "      <td>1041.690290</td>\n",
       "      <td>4.0</td>\n",
       "      <td>264.987395</td>\n",
       "      <td>3.609774e-225</td>\n",
       "    </tr>\n",
       "    <tr>\n",
       "      <th>Residual</th>\n",
       "      <td>39148.779822</td>\n",
       "      <td>39835.0</td>\n",
       "      <td>NaN</td>\n",
       "      <td>NaN</td>\n",
       "    </tr>\n",
       "  </tbody>\n",
       "</table>\n",
       "</div>"
      ],
      "text/plain": [
       "                  sum_sq       df              F         PR(>F)\n",
       "Intercept  393066.804852      1.0  399956.684283   0.000000e+00\n",
       "C(color)     1041.690290      4.0     264.987395  3.609774e-225\n",
       "Residual    39148.779822  39835.0            NaN            NaN"
      ]
     },
     "execution_count": 19,
     "metadata": {},
     "output_type": "execute_result"
    }
   ],
   "source": [
    "sm.stats.anova_lm(model, typ = 3)"
   ]
  },
  {
   "cell_type": "markdown",
   "metadata": {
    "id": "aPOD2WJaDo2m"
   },
   "source": [
    "Since the p-value (column `PR(>F)`) is very small, we can reject the null hypothesis that the mean of the price is the same for all diamond color grades. "
   ]
  },
  {
   "cell_type": "markdown",
   "metadata": {
    "id": "WqRArh40Fws2"
   },
   "source": [
    "## Two-Way ANOVA"
   ]
  },
  {
   "cell_type": "code",
   "execution_count": 20,
   "metadata": {
    "id": "xJQ6q5wjF3Vy"
   },
   "outputs": [],
   "source": [
    "diamonds = sns.load_dataset(\"diamonds\", cache=False)"
   ]
  },
  {
   "cell_type": "code",
   "execution_count": 21,
   "metadata": {
    "colab": {
     "base_uri": "https://localhost:8080/",
     "height": 206
    },
    "executionInfo": {
     "elapsed": 18,
     "status": "ok",
     "timestamp": 1660056551403,
     "user": {
      "displayName": "Rebecca Weng",
      "userId": "08002348150894593460"
     },
     "user_tz": 240
    },
    "id": "1StztGpXGFYF",
    "outputId": "abc552ff-df71-4079-b0fa-531827bde277"
   },
   "outputs": [
    {
     "data": {
      "text/html": [
       "<div>\n",
       "<style scoped>\n",
       "    .dataframe tbody tr th:only-of-type {\n",
       "        vertical-align: middle;\n",
       "    }\n",
       "\n",
       "    .dataframe tbody tr th {\n",
       "        vertical-align: top;\n",
       "    }\n",
       "\n",
       "    .dataframe thead th {\n",
       "        text-align: right;\n",
       "    }\n",
       "</style>\n",
       "<table border=\"1\" class=\"dataframe\">\n",
       "  <thead>\n",
       "    <tr style=\"text-align: right;\">\n",
       "      <th></th>\n",
       "      <th>carat</th>\n",
       "      <th>cut</th>\n",
       "      <th>color</th>\n",
       "      <th>clarity</th>\n",
       "      <th>depth</th>\n",
       "      <th>table</th>\n",
       "      <th>price</th>\n",
       "      <th>x</th>\n",
       "      <th>y</th>\n",
       "      <th>z</th>\n",
       "    </tr>\n",
       "  </thead>\n",
       "  <tbody>\n",
       "    <tr>\n",
       "      <th>0</th>\n",
       "      <td>0.23</td>\n",
       "      <td>Ideal</td>\n",
       "      <td>E</td>\n",
       "      <td>SI2</td>\n",
       "      <td>61.5</td>\n",
       "      <td>55.0</td>\n",
       "      <td>326</td>\n",
       "      <td>3.95</td>\n",
       "      <td>3.98</td>\n",
       "      <td>2.43</td>\n",
       "    </tr>\n",
       "    <tr>\n",
       "      <th>1</th>\n",
       "      <td>0.21</td>\n",
       "      <td>Premium</td>\n",
       "      <td>E</td>\n",
       "      <td>SI1</td>\n",
       "      <td>59.8</td>\n",
       "      <td>61.0</td>\n",
       "      <td>326</td>\n",
       "      <td>3.89</td>\n",
       "      <td>3.84</td>\n",
       "      <td>2.31</td>\n",
       "    </tr>\n",
       "    <tr>\n",
       "      <th>2</th>\n",
       "      <td>0.23</td>\n",
       "      <td>Good</td>\n",
       "      <td>E</td>\n",
       "      <td>VS1</td>\n",
       "      <td>56.9</td>\n",
       "      <td>65.0</td>\n",
       "      <td>327</td>\n",
       "      <td>4.05</td>\n",
       "      <td>4.07</td>\n",
       "      <td>2.31</td>\n",
       "    </tr>\n",
       "    <tr>\n",
       "      <th>3</th>\n",
       "      <td>0.29</td>\n",
       "      <td>Premium</td>\n",
       "      <td>I</td>\n",
       "      <td>VS2</td>\n",
       "      <td>62.4</td>\n",
       "      <td>58.0</td>\n",
       "      <td>334</td>\n",
       "      <td>4.20</td>\n",
       "      <td>4.23</td>\n",
       "      <td>2.63</td>\n",
       "    </tr>\n",
       "    <tr>\n",
       "      <th>4</th>\n",
       "      <td>0.31</td>\n",
       "      <td>Good</td>\n",
       "      <td>J</td>\n",
       "      <td>SI2</td>\n",
       "      <td>63.3</td>\n",
       "      <td>58.0</td>\n",
       "      <td>335</td>\n",
       "      <td>4.34</td>\n",
       "      <td>4.35</td>\n",
       "      <td>2.75</td>\n",
       "    </tr>\n",
       "  </tbody>\n",
       "</table>\n",
       "</div>"
      ],
      "text/plain": [
       "   carat      cut color clarity  depth  table  price     x     y     z\n",
       "0   0.23    Ideal     E     SI2   61.5   55.0    326  3.95  3.98  2.43\n",
       "1   0.21  Premium     E     SI1   59.8   61.0    326  3.89  3.84  2.31\n",
       "2   0.23     Good     E     VS1   56.9   65.0    327  4.05  4.07  2.31\n",
       "3   0.29  Premium     I     VS2   62.4   58.0    334  4.20  4.23  2.63\n",
       "4   0.31     Good     J     SI2   63.3   58.0    335  4.34  4.35  2.75"
      ]
     },
     "execution_count": 21,
     "metadata": {},
     "output_type": "execute_result"
    }
   ],
   "source": [
    "diamonds.head()"
   ]
  },
  {
   "cell_type": "code",
   "execution_count": 22,
   "metadata": {
    "id": "VXR5MN08GGmI"
   },
   "outputs": [],
   "source": [
    "diamonds2 = diamonds[[\"color\",\"cut\",\"price\"]]\n",
    "\n",
    "diamonds2 = diamonds2[diamonds2[\"color\"].isin([\"E\",\"F\",\"H\",\"D\",\"I\"])]\n",
    "\n",
    "diamonds2.color = diamonds2.color.cat.remove_categories([\"G\",\"J\"])\n",
    "\n",
    "diamonds2 = diamonds2[diamonds2[\"cut\"].isin([\"Ideal\",\"Premium\",\"Very Good\"])]\n",
    "\n",
    "diamonds2.cut = diamonds2.cut.cat.remove_categories([\"Good\",\"Fair\"])\n",
    "\n",
    "diamonds2.dropna(inplace = True)\n",
    "\n",
    "diamonds2.reset_index(inplace = True, drop = True)\n",
    "\n",
    "diamonds2.insert(3,\"log_price\",[math.log(price) for price in diamonds2[\"price\"]])"
   ]
  },
  {
   "cell_type": "code",
   "execution_count": 23,
   "metadata": {
    "colab": {
     "base_uri": "https://localhost:8080/",
     "height": 206
    },
    "executionInfo": {
     "elapsed": 178,
     "status": "ok",
     "timestamp": 1660056627509,
     "user": {
      "displayName": "Rebecca Weng",
      "userId": "08002348150894593460"
     },
     "user_tz": 240
    },
    "id": "1WkRe4RmIhby",
    "outputId": "6c685cc1-6586-4e65-82c0-dffe58b88f87"
   },
   "outputs": [
    {
     "data": {
      "text/html": [
       "<div>\n",
       "<style scoped>\n",
       "    .dataframe tbody tr th:only-of-type {\n",
       "        vertical-align: middle;\n",
       "    }\n",
       "\n",
       "    .dataframe tbody tr th {\n",
       "        vertical-align: top;\n",
       "    }\n",
       "\n",
       "    .dataframe thead th {\n",
       "        text-align: right;\n",
       "    }\n",
       "</style>\n",
       "<table border=\"1\" class=\"dataframe\">\n",
       "  <thead>\n",
       "    <tr style=\"text-align: right;\">\n",
       "      <th></th>\n",
       "      <th>color</th>\n",
       "      <th>cut</th>\n",
       "      <th>price</th>\n",
       "      <th>log_price</th>\n",
       "    </tr>\n",
       "  </thead>\n",
       "  <tbody>\n",
       "    <tr>\n",
       "      <th>0</th>\n",
       "      <td>E</td>\n",
       "      <td>Ideal</td>\n",
       "      <td>326</td>\n",
       "      <td>5.786897</td>\n",
       "    </tr>\n",
       "    <tr>\n",
       "      <th>1</th>\n",
       "      <td>E</td>\n",
       "      <td>Premium</td>\n",
       "      <td>326</td>\n",
       "      <td>5.786897</td>\n",
       "    </tr>\n",
       "    <tr>\n",
       "      <th>2</th>\n",
       "      <td>I</td>\n",
       "      <td>Premium</td>\n",
       "      <td>334</td>\n",
       "      <td>5.811141</td>\n",
       "    </tr>\n",
       "    <tr>\n",
       "      <th>3</th>\n",
       "      <td>I</td>\n",
       "      <td>Very Good</td>\n",
       "      <td>336</td>\n",
       "      <td>5.817111</td>\n",
       "    </tr>\n",
       "    <tr>\n",
       "      <th>4</th>\n",
       "      <td>H</td>\n",
       "      <td>Very Good</td>\n",
       "      <td>337</td>\n",
       "      <td>5.820083</td>\n",
       "    </tr>\n",
       "  </tbody>\n",
       "</table>\n",
       "</div>"
      ],
      "text/plain": [
       "  color        cut  price  log_price\n",
       "0     E      Ideal    326   5.786897\n",
       "1     E    Premium    326   5.786897\n",
       "2     I    Premium    334   5.811141\n",
       "3     I  Very Good    336   5.817111\n",
       "4     H  Very Good    337   5.820083"
      ]
     },
     "execution_count": 23,
     "metadata": {},
     "output_type": "execute_result"
    }
   ],
   "source": [
    "diamonds2.head()"
   ]
  },
  {
   "cell_type": "code",
   "execution_count": 24,
   "metadata": {
    "id": "9-ktF_yNIi7f"
   },
   "outputs": [],
   "source": [
    "diamonds2.to_csv('diamonds2.csv',index=False,header=list(diamonds2.columns))"
   ]
  },
  {
   "cell_type": "markdown",
   "metadata": {
    "id": "kZwG6EJ9IuQv"
   },
   "source": [
    "## Two-Way ANOVA"
   ]
  },
  {
   "cell_type": "code",
   "execution_count": 25,
   "metadata": {
    "id": "snFd9kFNFcS3"
   },
   "outputs": [],
   "source": [
    "diamonds2 = pd.read_csv(\"diamonds2.csv\")"
   ]
  },
  {
   "cell_type": "code",
   "execution_count": 26,
   "metadata": {
    "colab": {
     "base_uri": "https://localhost:8080/",
     "height": 206
    },
    "executionInfo": {
     "elapsed": 15,
     "status": "ok",
     "timestamp": 1660056815128,
     "user": {
      "displayName": "Rebecca Weng",
      "userId": "08002348150894593460"
     },
     "user_tz": 240
    },
    "id": "DG7x88LiJesP",
    "outputId": "cb003d2b-4655-4d2e-9ab3-d09795fae737"
   },
   "outputs": [
    {
     "data": {
      "text/html": [
       "<div>\n",
       "<style scoped>\n",
       "    .dataframe tbody tr th:only-of-type {\n",
       "        vertical-align: middle;\n",
       "    }\n",
       "\n",
       "    .dataframe tbody tr th {\n",
       "        vertical-align: top;\n",
       "    }\n",
       "\n",
       "    .dataframe thead th {\n",
       "        text-align: right;\n",
       "    }\n",
       "</style>\n",
       "<table border=\"1\" class=\"dataframe\">\n",
       "  <thead>\n",
       "    <tr style=\"text-align: right;\">\n",
       "      <th></th>\n",
       "      <th>color</th>\n",
       "      <th>cut</th>\n",
       "      <th>price</th>\n",
       "      <th>log_price</th>\n",
       "    </tr>\n",
       "  </thead>\n",
       "  <tbody>\n",
       "    <tr>\n",
       "      <th>0</th>\n",
       "      <td>E</td>\n",
       "      <td>Ideal</td>\n",
       "      <td>326</td>\n",
       "      <td>5.786897</td>\n",
       "    </tr>\n",
       "    <tr>\n",
       "      <th>1</th>\n",
       "      <td>E</td>\n",
       "      <td>Premium</td>\n",
       "      <td>326</td>\n",
       "      <td>5.786897</td>\n",
       "    </tr>\n",
       "    <tr>\n",
       "      <th>2</th>\n",
       "      <td>I</td>\n",
       "      <td>Premium</td>\n",
       "      <td>334</td>\n",
       "      <td>5.811141</td>\n",
       "    </tr>\n",
       "    <tr>\n",
       "      <th>3</th>\n",
       "      <td>I</td>\n",
       "      <td>Very Good</td>\n",
       "      <td>336</td>\n",
       "      <td>5.817111</td>\n",
       "    </tr>\n",
       "    <tr>\n",
       "      <th>4</th>\n",
       "      <td>H</td>\n",
       "      <td>Very Good</td>\n",
       "      <td>337</td>\n",
       "      <td>5.820083</td>\n",
       "    </tr>\n",
       "  </tbody>\n",
       "</table>\n",
       "</div>"
      ],
      "text/plain": [
       "  color        cut  price  log_price\n",
       "0     E      Ideal    326   5.786897\n",
       "1     E    Premium    326   5.786897\n",
       "2     I    Premium    334   5.811141\n",
       "3     I  Very Good    336   5.817111\n",
       "4     H  Very Good    337   5.820083"
      ]
     },
     "execution_count": 26,
     "metadata": {},
     "output_type": "execute_result"
    }
   ],
   "source": [
    "diamonds2.head()"
   ]
  },
  {
   "cell_type": "code",
   "execution_count": 27,
   "metadata": {
    "id": "5AeFpn4pJSMn"
   },
   "outputs": [],
   "source": [
    "model2 = ols(formula = \"log_price ~ C(color) + C(cut) + C(color):C(cut)\", data = diamonds2).fit()"
   ]
  },
  {
   "cell_type": "code",
   "execution_count": 29,
   "metadata": {
    "colab": {
     "base_uri": "https://localhost:8080/",
     "height": 716
    },
    "executionInfo": {
     "elapsed": 21,
     "status": "ok",
     "timestamp": 1660056939261,
     "user": {
      "displayName": "Rebecca Weng",
      "userId": "08002348150894593460"
     },
     "user_tz": 240
    },
    "id": "qqBhqc_aGkHj",
    "outputId": "fbfd3162-6bf7-4e8b-bb67-9d2d449ada67"
   },
   "outputs": [
    {
     "data": {
      "text/html": [
       "<table class=\"simpletable\">\n",
       "<caption>OLS Regression Results</caption>\n",
       "<tr>\n",
       "  <th>Dep. Variable:</th>        <td>log_price</td>    <th>  R-squared:         </th> <td>   0.046</td> \n",
       "</tr>\n",
       "<tr>\n",
       "  <th>Model:</th>                   <td>OLS</td>       <th>  Adj. R-squared:    </th> <td>   0.045</td> \n",
       "</tr>\n",
       "<tr>\n",
       "  <th>Method:</th>             <td>Least Squares</td>  <th>  F-statistic:       </th> <td>   119.5</td> \n",
       "</tr>\n",
       "<tr>\n",
       "  <th>Date:</th>             <td>Tue, 27 Aug 2024</td> <th>  Prob (F-statistic):</th>  <td>  0.00</td>  \n",
       "</tr>\n",
       "<tr>\n",
       "  <th>Time:</th>                 <td>12:44:26</td>     <th>  Log-Likelihood:    </th> <td> -49159.</td> \n",
       "</tr>\n",
       "<tr>\n",
       "  <th>No. Observations:</th>      <td> 34935</td>      <th>  AIC:               </th> <td>9.835e+04</td>\n",
       "</tr>\n",
       "<tr>\n",
       "  <th>Df Residuals:</th>          <td> 34920</td>      <th>  BIC:               </th> <td>9.847e+04</td>\n",
       "</tr>\n",
       "<tr>\n",
       "  <th>Df Model:</th>              <td>    14</td>      <th>                     </th>     <td> </td>    \n",
       "</tr>\n",
       "<tr>\n",
       "  <th>Covariance Type:</th>      <td>nonrobust</td>    <th>                     </th>     <td> </td>    \n",
       "</tr>\n",
       "</table>\n",
       "<table class=\"simpletable\">\n",
       "<tr>\n",
       "                  <td></td>                     <th>coef</th>     <th>std err</th>      <th>t</th>      <th>P>|t|</th>  <th>[0.025</th>    <th>0.975]</th>  \n",
       "</tr>\n",
       "<tr>\n",
       "  <th>Intercept</th>                         <td>    7.4567</td> <td>    0.019</td> <td>  401.583</td> <td> 0.000</td> <td>    7.420</td> <td>    7.493</td>\n",
       "</tr>\n",
       "<tr>\n",
       "  <th>C(color)[T.E]</th>                     <td>   -0.0056</td> <td>    0.024</td> <td>   -0.231</td> <td> 0.817</td> <td>   -0.053</td> <td>    0.042</td>\n",
       "</tr>\n",
       "<tr>\n",
       "  <th>C(color)[T.F]</th>                     <td>    0.1755</td> <td>    0.024</td> <td>    7.166</td> <td> 0.000</td> <td>    0.128</td> <td>    0.224</td>\n",
       "</tr>\n",
       "<tr>\n",
       "  <th>C(color)[T.H]</th>                     <td>    0.2756</td> <td>    0.026</td> <td>   10.739</td> <td> 0.000</td> <td>    0.225</td> <td>    0.326</td>\n",
       "</tr>\n",
       "<tr>\n",
       "  <th>C(color)[T.I]</th>                     <td>    0.3787</td> <td>    0.028</td> <td>   13.294</td> <td> 0.000</td> <td>    0.323</td> <td>    0.435</td>\n",
       "</tr>\n",
       "<tr>\n",
       "  <th>C(cut)[T.Premium]</th>                 <td>    0.2828</td> <td>    0.031</td> <td>    9.153</td> <td> 0.000</td> <td>    0.222</td> <td>    0.343</td>\n",
       "</tr>\n",
       "<tr>\n",
       "  <th>C(cut)[T.Very Good]</th>               <td>    0.2295</td> <td>    0.031</td> <td>    7.290</td> <td> 0.000</td> <td>    0.168</td> <td>    0.291</td>\n",
       "</tr>\n",
       "<tr>\n",
       "  <th>C(color)[T.E]:C(cut)[T.Premium]</th>   <td>   -0.0322</td> <td>    0.040</td> <td>   -0.800</td> <td> 0.424</td> <td>   -0.111</td> <td>    0.047</td>\n",
       "</tr>\n",
       "<tr>\n",
       "  <th>C(color)[T.F]:C(cut)[T.Premium]</th>   <td>    0.0313</td> <td>    0.040</td> <td>    0.775</td> <td> 0.438</td> <td>   -0.048</td> <td>    0.110</td>\n",
       "</tr>\n",
       "<tr>\n",
       "  <th>C(color)[T.H]:C(cut)[T.Premium]</th>   <td>    0.0947</td> <td>    0.041</td> <td>    2.308</td> <td> 0.021</td> <td>    0.014</td> <td>    0.175</td>\n",
       "</tr>\n",
       "<tr>\n",
       "  <th>C(color)[T.I]:C(cut)[T.Premium]</th>   <td>    0.0841</td> <td>    0.046</td> <td>    1.832</td> <td> 0.067</td> <td>   -0.006</td> <td>    0.174</td>\n",
       "</tr>\n",
       "<tr>\n",
       "  <th>C(color)[T.E]:C(cut)[T.Very Good]</th> <td>   -0.0931</td> <td>    0.041</td> <td>   -2.294</td> <td> 0.022</td> <td>   -0.173</td> <td>   -0.014</td>\n",
       "</tr>\n",
       "<tr>\n",
       "  <th>C(color)[T.F]:C(cut)[T.Very Good]</th> <td>   -0.1013</td> <td>    0.041</td> <td>   -2.459</td> <td> 0.014</td> <td>   -0.182</td> <td>   -0.021</td>\n",
       "</tr>\n",
       "<tr>\n",
       "  <th>C(color)[T.H]:C(cut)[T.Very Good]</th> <td>   -0.0247</td> <td>    0.043</td> <td>   -0.576</td> <td> 0.564</td> <td>   -0.109</td> <td>    0.059</td>\n",
       "</tr>\n",
       "<tr>\n",
       "  <th>C(color)[T.I]:C(cut)[T.Very Good]</th> <td>    0.0359</td> <td>    0.048</td> <td>    0.753</td> <td> 0.451</td> <td>   -0.057</td> <td>    0.129</td>\n",
       "</tr>\n",
       "</table>\n",
       "<table class=\"simpletable\">\n",
       "<tr>\n",
       "  <th>Omnibus:</th>       <td>4862.888</td> <th>  Durbin-Watson:     </th> <td>   0.101</td> \n",
       "</tr>\n",
       "<tr>\n",
       "  <th>Prob(Omnibus):</th>  <td> 0.000</td>  <th>  Jarque-Bera (JB):  </th> <td>1246.556</td> \n",
       "</tr>\n",
       "<tr>\n",
       "  <th>Skew:</th>           <td> 0.108</td>  <th>  Prob(JB):          </th> <td>2.06e-271</td>\n",
       "</tr>\n",
       "<tr>\n",
       "  <th>Kurtosis:</th>       <td> 2.100</td>  <th>  Cond. No.          </th> <td>    20.8</td> \n",
       "</tr>\n",
       "</table><br/><br/>Notes:<br/>[1] Standard Errors assume that the covariance matrix of the errors is correctly specified."
      ],
      "text/latex": [
       "\\begin{center}\n",
       "\\begin{tabular}{lclc}\n",
       "\\toprule\n",
       "\\textbf{Dep. Variable:}                    &    log\\_price    & \\textbf{  R-squared:         } &     0.046   \\\\\n",
       "\\textbf{Model:}                            &       OLS        & \\textbf{  Adj. R-squared:    } &     0.045   \\\\\n",
       "\\textbf{Method:}                           &  Least Squares   & \\textbf{  F-statistic:       } &     119.5   \\\\\n",
       "\\textbf{Date:}                             & Tue, 27 Aug 2024 & \\textbf{  Prob (F-statistic):} &     0.00    \\\\\n",
       "\\textbf{Time:}                             &     12:44:26     & \\textbf{  Log-Likelihood:    } &   -49159.   \\\\\n",
       "\\textbf{No. Observations:}                 &       34935      & \\textbf{  AIC:               } & 9.835e+04   \\\\\n",
       "\\textbf{Df Residuals:}                     &       34920      & \\textbf{  BIC:               } & 9.847e+04   \\\\\n",
       "\\textbf{Df Model:}                         &          14      & \\textbf{                     } &             \\\\\n",
       "\\textbf{Covariance Type:}                  &    nonrobust     & \\textbf{                     } &             \\\\\n",
       "\\bottomrule\n",
       "\\end{tabular}\n",
       "\\begin{tabular}{lcccccc}\n",
       "                                           & \\textbf{coef} & \\textbf{std err} & \\textbf{t} & \\textbf{P$> |$t$|$} & \\textbf{[0.025} & \\textbf{0.975]}  \\\\\n",
       "\\midrule\n",
       "\\textbf{Intercept}                         &       7.4567  &        0.019     &   401.583  &         0.000        &        7.420    &        7.493     \\\\\n",
       "\\textbf{C(color)[T.E]}                     &      -0.0056  &        0.024     &    -0.231  &         0.817        &       -0.053    &        0.042     \\\\\n",
       "\\textbf{C(color)[T.F]}                     &       0.1755  &        0.024     &     7.166  &         0.000        &        0.128    &        0.224     \\\\\n",
       "\\textbf{C(color)[T.H]}                     &       0.2756  &        0.026     &    10.739  &         0.000        &        0.225    &        0.326     \\\\\n",
       "\\textbf{C(color)[T.I]}                     &       0.3787  &        0.028     &    13.294  &         0.000        &        0.323    &        0.435     \\\\\n",
       "\\textbf{C(cut)[T.Premium]}                 &       0.2828  &        0.031     &     9.153  &         0.000        &        0.222    &        0.343     \\\\\n",
       "\\textbf{C(cut)[T.Very Good]}               &       0.2295  &        0.031     &     7.290  &         0.000        &        0.168    &        0.291     \\\\\n",
       "\\textbf{C(color)[T.E]:C(cut)[T.Premium]}   &      -0.0322  &        0.040     &    -0.800  &         0.424        &       -0.111    &        0.047     \\\\\n",
       "\\textbf{C(color)[T.F]:C(cut)[T.Premium]}   &       0.0313  &        0.040     &     0.775  &         0.438        &       -0.048    &        0.110     \\\\\n",
       "\\textbf{C(color)[T.H]:C(cut)[T.Premium]}   &       0.0947  &        0.041     &     2.308  &         0.021        &        0.014    &        0.175     \\\\\n",
       "\\textbf{C(color)[T.I]:C(cut)[T.Premium]}   &       0.0841  &        0.046     &     1.832  &         0.067        &       -0.006    &        0.174     \\\\\n",
       "\\textbf{C(color)[T.E]:C(cut)[T.Very Good]} &      -0.0931  &        0.041     &    -2.294  &         0.022        &       -0.173    &       -0.014     \\\\\n",
       "\\textbf{C(color)[T.F]:C(cut)[T.Very Good]} &      -0.1013  &        0.041     &    -2.459  &         0.014        &       -0.182    &       -0.021     \\\\\n",
       "\\textbf{C(color)[T.H]:C(cut)[T.Very Good]} &      -0.0247  &        0.043     &    -0.576  &         0.564        &       -0.109    &        0.059     \\\\\n",
       "\\textbf{C(color)[T.I]:C(cut)[T.Very Good]} &       0.0359  &        0.048     &     0.753  &         0.451        &       -0.057    &        0.129     \\\\\n",
       "\\bottomrule\n",
       "\\end{tabular}\n",
       "\\begin{tabular}{lclc}\n",
       "\\textbf{Omnibus:}       & 4862.888 & \\textbf{  Durbin-Watson:     } &     0.101  \\\\\n",
       "\\textbf{Prob(Omnibus):} &   0.000  & \\textbf{  Jarque-Bera (JB):  } &  1246.556  \\\\\n",
       "\\textbf{Skew:}          &   0.108  & \\textbf{  Prob(JB):          } & 2.06e-271  \\\\\n",
       "\\textbf{Kurtosis:}      &   2.100  & \\textbf{  Cond. No.          } &      20.8  \\\\\n",
       "\\bottomrule\n",
       "\\end{tabular}\n",
       "%\\caption{OLS Regression Results}\n",
       "\\end{center}\n",
       "\n",
       "Notes: \\newline\n",
       " [1] Standard Errors assume that the covariance matrix of the errors is correctly specified."
      ],
      "text/plain": [
       "<class 'statsmodels.iolib.summary.Summary'>\n",
       "\"\"\"\n",
       "                            OLS Regression Results                            \n",
       "==============================================================================\n",
       "Dep. Variable:              log_price   R-squared:                       0.046\n",
       "Model:                            OLS   Adj. R-squared:                  0.045\n",
       "Method:                 Least Squares   F-statistic:                     119.5\n",
       "Date:                Tue, 27 Aug 2024   Prob (F-statistic):               0.00\n",
       "Time:                        12:44:26   Log-Likelihood:                -49159.\n",
       "No. Observations:               34935   AIC:                         9.835e+04\n",
       "Df Residuals:                   34920   BIC:                         9.847e+04\n",
       "Df Model:                          14                                         \n",
       "Covariance Type:            nonrobust                                         \n",
       "=====================================================================================================\n",
       "                                        coef    std err          t      P>|t|      [0.025      0.975]\n",
       "-----------------------------------------------------------------------------------------------------\n",
       "Intercept                             7.4567      0.019    401.583      0.000       7.420       7.493\n",
       "C(color)[T.E]                        -0.0056      0.024     -0.231      0.817      -0.053       0.042\n",
       "C(color)[T.F]                         0.1755      0.024      7.166      0.000       0.128       0.224\n",
       "C(color)[T.H]                         0.2756      0.026     10.739      0.000       0.225       0.326\n",
       "C(color)[T.I]                         0.3787      0.028     13.294      0.000       0.323       0.435\n",
       "C(cut)[T.Premium]                     0.2828      0.031      9.153      0.000       0.222       0.343\n",
       "C(cut)[T.Very Good]                   0.2295      0.031      7.290      0.000       0.168       0.291\n",
       "C(color)[T.E]:C(cut)[T.Premium]      -0.0322      0.040     -0.800      0.424      -0.111       0.047\n",
       "C(color)[T.F]:C(cut)[T.Premium]       0.0313      0.040      0.775      0.438      -0.048       0.110\n",
       "C(color)[T.H]:C(cut)[T.Premium]       0.0947      0.041      2.308      0.021       0.014       0.175\n",
       "C(color)[T.I]:C(cut)[T.Premium]       0.0841      0.046      1.832      0.067      -0.006       0.174\n",
       "C(color)[T.E]:C(cut)[T.Very Good]    -0.0931      0.041     -2.294      0.022      -0.173      -0.014\n",
       "C(color)[T.F]:C(cut)[T.Very Good]    -0.1013      0.041     -2.459      0.014      -0.182      -0.021\n",
       "C(color)[T.H]:C(cut)[T.Very Good]    -0.0247      0.043     -0.576      0.564      -0.109       0.059\n",
       "C(color)[T.I]:C(cut)[T.Very Good]     0.0359      0.048      0.753      0.451      -0.057       0.129\n",
       "==============================================================================\n",
       "Omnibus:                     4862.888   Durbin-Watson:                   0.101\n",
       "Prob(Omnibus):                  0.000   Jarque-Bera (JB):             1246.556\n",
       "Skew:                           0.108   Prob(JB):                    2.06e-271\n",
       "Kurtosis:                       2.100   Cond. No.                         20.8\n",
       "==============================================================================\n",
       "\n",
       "Notes:\n",
       "[1] Standard Errors assume that the covariance matrix of the errors is correctly specified.\n",
       "\"\"\""
      ]
     },
     "execution_count": 29,
     "metadata": {},
     "output_type": "execute_result"
    }
   ],
   "source": [
    "model2.summary()"
   ]
  },
  {
   "cell_type": "markdown",
   "metadata": {
    "id": "QuZ4Zqk5GvFM"
   },
   "source": [
    "#### **Null Hypothesis (Color)**\n",
    "\n",
    "$$H_0: price_D=price_E=price_F=price_H=price_I$$\n",
    "\n",
    "There is no difference in the price of diamonds based on color.\n",
    "\n",
    "#### **Alternative Hypothesis (Color)**\n",
    "\n",
    "$$H_1: \\text{Not } price_D=price_E=price_F=price_H=price_I$$\n",
    "\n",
    "There is a difference in the price of diamonds based on color.\n",
    "\n",
    "#### **Null Hypothesis (Cut)**\n",
    "\n",
    "$$H_0: price_{Ideal}=price_{Premium}=price_{Very \\space Good}$$\n",
    "\n",
    "There is no difference in the price of diamonds based on cut.\n",
    "\n",
    "#### **Alternative Hypothesis (Cut)**\n",
    "\n",
    "$$H_1: \\text{Not } price_{Ideal}=price_{Premium}=price_{Very \\space Good}$$\n",
    "\n",
    "There is a difference in the price of diamonds based on cut.\n",
    "\n",
    "#### **Null Hypothesis (Interaction)**\n",
    "\n",
    "$$H_0: \\text{The effect of color on diamond price is independent of the cut, and vice versa.}$$\n",
    "\n",
    "#### **Alternative Hypothesis (Interaction)**\n",
    "\n",
    "$$H_1: \\text{There is an interaction effect between color and cut on diamond price.}$$"
   ]
  },
  {
   "cell_type": "code",
   "execution_count": 30,
   "metadata": {
    "colab": {
     "base_uri": "https://localhost:8080/",
     "height": 175
    },
    "executionInfo": {
     "elapsed": 179,
     "status": "ok",
     "timestamp": 1660056860409,
     "user": {
      "displayName": "Rebecca Weng",
      "userId": "08002348150894593460"
     },
     "user_tz": 240
    },
    "id": "hcU2FDrvJXdD",
    "outputId": "a20ed052-26b6-44fa-f0a0-08b7389f7786"
   },
   "outputs": [
    {
     "data": {
      "text/html": [
       "<div>\n",
       "<style scoped>\n",
       "    .dataframe tbody tr th:only-of-type {\n",
       "        vertical-align: middle;\n",
       "    }\n",
       "\n",
       "    .dataframe tbody tr th {\n",
       "        vertical-align: top;\n",
       "    }\n",
       "\n",
       "    .dataframe thead th {\n",
       "        text-align: right;\n",
       "    }\n",
       "</style>\n",
       "<table border=\"1\" class=\"dataframe\">\n",
       "  <thead>\n",
       "    <tr style=\"text-align: right;\">\n",
       "      <th></th>\n",
       "      <th>sum_sq</th>\n",
       "      <th>df</th>\n",
       "      <th>F</th>\n",
       "      <th>PR(&gt;F)</th>\n",
       "    </tr>\n",
       "  </thead>\n",
       "  <tbody>\n",
       "    <tr>\n",
       "      <th>C(color)</th>\n",
       "      <td>926.361461</td>\n",
       "      <td>4.0</td>\n",
       "      <td>237.014783</td>\n",
       "      <td>3.481145e-201</td>\n",
       "    </tr>\n",
       "    <tr>\n",
       "      <th>C(cut)</th>\n",
       "      <td>630.641441</td>\n",
       "      <td>2.0</td>\n",
       "      <td>322.706309</td>\n",
       "      <td>1.348511e-139</td>\n",
       "    </tr>\n",
       "    <tr>\n",
       "      <th>C(color):C(cut)</th>\n",
       "      <td>27.478611</td>\n",
       "      <td>8.0</td>\n",
       "      <td>3.515279</td>\n",
       "      <td>4.531734e-04</td>\n",
       "    </tr>\n",
       "    <tr>\n",
       "      <th>Residual</th>\n",
       "      <td>34120.806577</td>\n",
       "      <td>34920.0</td>\n",
       "      <td>NaN</td>\n",
       "      <td>NaN</td>\n",
       "    </tr>\n",
       "  </tbody>\n",
       "</table>\n",
       "</div>"
      ],
      "text/plain": [
       "                       sum_sq       df           F         PR(>F)\n",
       "C(color)           926.361461      4.0  237.014783  3.481145e-201\n",
       "C(cut)             630.641441      2.0  322.706309  1.348511e-139\n",
       "C(color):C(cut)     27.478611      8.0    3.515279   4.531734e-04\n",
       "Residual         34120.806577  34920.0         NaN            NaN"
      ]
     },
     "execution_count": 30,
     "metadata": {},
     "output_type": "execute_result"
    }
   ],
   "source": [
    "# two-way ANOVA\n",
    "sm.stats.anova_lm(model2, typ = 2)"
   ]
  },
  {
   "cell_type": "code",
   "execution_count": 31,
   "metadata": {},
   "outputs": [
    {
     "data": {
      "text/html": [
       "<div>\n",
       "<style scoped>\n",
       "    .dataframe tbody tr th:only-of-type {\n",
       "        vertical-align: middle;\n",
       "    }\n",
       "\n",
       "    .dataframe tbody tr th {\n",
       "        vertical-align: top;\n",
       "    }\n",
       "\n",
       "    .dataframe thead th {\n",
       "        text-align: right;\n",
       "    }\n",
       "</style>\n",
       "<table border=\"1\" class=\"dataframe\">\n",
       "  <thead>\n",
       "    <tr style=\"text-align: right;\">\n",
       "      <th></th>\n",
       "      <th>df</th>\n",
       "      <th>sum_sq</th>\n",
       "      <th>mean_sq</th>\n",
       "      <th>F</th>\n",
       "      <th>PR(&gt;F)</th>\n",
       "    </tr>\n",
       "  </thead>\n",
       "  <tbody>\n",
       "    <tr>\n",
       "      <th>C(color)</th>\n",
       "      <td>4.0</td>\n",
       "      <td>977.195814</td>\n",
       "      <td>244.298954</td>\n",
       "      <td>250.021037</td>\n",
       "      <td>3.747388e-212</td>\n",
       "    </tr>\n",
       "    <tr>\n",
       "      <th>C(cut)</th>\n",
       "      <td>2.0</td>\n",
       "      <td>630.641441</td>\n",
       "      <td>315.320721</td>\n",
       "      <td>322.706309</td>\n",
       "      <td>1.348511e-139</td>\n",
       "    </tr>\n",
       "    <tr>\n",
       "      <th>C(color):C(cut)</th>\n",
       "      <td>8.0</td>\n",
       "      <td>27.478611</td>\n",
       "      <td>3.434826</td>\n",
       "      <td>3.515279</td>\n",
       "      <td>4.531734e-04</td>\n",
       "    </tr>\n",
       "    <tr>\n",
       "      <th>Residual</th>\n",
       "      <td>34920.0</td>\n",
       "      <td>34120.806577</td>\n",
       "      <td>0.977114</td>\n",
       "      <td>NaN</td>\n",
       "      <td>NaN</td>\n",
       "    </tr>\n",
       "  </tbody>\n",
       "</table>\n",
       "</div>"
      ],
      "text/plain": [
       "                      df        sum_sq     mean_sq           F         PR(>F)\n",
       "C(color)             4.0    977.195814  244.298954  250.021037  3.747388e-212\n",
       "C(cut)               2.0    630.641441  315.320721  322.706309  1.348511e-139\n",
       "C(color):C(cut)      8.0     27.478611    3.434826    3.515279   4.531734e-04\n",
       "Residual         34920.0  34120.806577    0.977114         NaN            NaN"
      ]
     },
     "execution_count": 31,
     "metadata": {},
     "output_type": "execute_result"
    }
   ],
   "source": [
    "sm.stats.anova_lm(model2, typ = 1)"
   ]
  },
  {
   "cell_type": "code",
   "execution_count": 32,
   "metadata": {},
   "outputs": [
    {
     "data": {
      "text/html": [
       "<div>\n",
       "<style scoped>\n",
       "    .dataframe tbody tr th:only-of-type {\n",
       "        vertical-align: middle;\n",
       "    }\n",
       "\n",
       "    .dataframe tbody tr th {\n",
       "        vertical-align: top;\n",
       "    }\n",
       "\n",
       "    .dataframe thead th {\n",
       "        text-align: right;\n",
       "    }\n",
       "</style>\n",
       "<table border=\"1\" class=\"dataframe\">\n",
       "  <thead>\n",
       "    <tr style=\"text-align: right;\">\n",
       "      <th></th>\n",
       "      <th>sum_sq</th>\n",
       "      <th>df</th>\n",
       "      <th>F</th>\n",
       "      <th>PR(&gt;F)</th>\n",
       "    </tr>\n",
       "  </thead>\n",
       "  <tbody>\n",
       "    <tr>\n",
       "      <th>Intercept</th>\n",
       "      <td>157578.043681</td>\n",
       "      <td>1.0</td>\n",
       "      <td>161268.910012</td>\n",
       "      <td>0.000000e+00</td>\n",
       "    </tr>\n",
       "    <tr>\n",
       "      <th>C(color)</th>\n",
       "      <td>319.145817</td>\n",
       "      <td>4.0</td>\n",
       "      <td>81.655250</td>\n",
       "      <td>4.134649e-69</td>\n",
       "    </tr>\n",
       "    <tr>\n",
       "      <th>C(cut)</th>\n",
       "      <td>100.144107</td>\n",
       "      <td>2.0</td>\n",
       "      <td>51.244864</td>\n",
       "      <td>5.987341e-23</td>\n",
       "    </tr>\n",
       "    <tr>\n",
       "      <th>C(color):C(cut)</th>\n",
       "      <td>27.478611</td>\n",
       "      <td>8.0</td>\n",
       "      <td>3.515279</td>\n",
       "      <td>4.531734e-04</td>\n",
       "    </tr>\n",
       "    <tr>\n",
       "      <th>Residual</th>\n",
       "      <td>34120.806577</td>\n",
       "      <td>34920.0</td>\n",
       "      <td>NaN</td>\n",
       "      <td>NaN</td>\n",
       "    </tr>\n",
       "  </tbody>\n",
       "</table>\n",
       "</div>"
      ],
      "text/plain": [
       "                        sum_sq       df              F        PR(>F)\n",
       "Intercept        157578.043681      1.0  161268.910012  0.000000e+00\n",
       "C(color)            319.145817      4.0      81.655250  4.134649e-69\n",
       "C(cut)              100.144107      2.0      51.244864  5.987341e-23\n",
       "C(color):C(cut)      27.478611      8.0       3.515279  4.531734e-04\n",
       "Residual          34120.806577  34920.0            NaN           NaN"
      ]
     },
     "execution_count": 32,
     "metadata": {},
     "output_type": "execute_result"
    }
   ],
   "source": [
    "sm.stats.anova_lm(model2, typ = 3)"
   ]
  },
  {
   "cell_type": "markdown",
   "metadata": {
    "id": "9KmdWe_UI2Mk"
   },
   "source": [
    "Since all of the p-values (column `PR(>F)`) are very small, we can reject all three null hypotheses."
   ]
  },
  {
   "cell_type": "markdown",
   "metadata": {
    "id": "rK7yNRLPKUvP"
   },
   "source": [
    "# ANOVA Tukey's HSD (honestly significantly different) test"
   ]
  },
  {
   "cell_type": "markdown",
   "metadata": {
    "id": "Om2ok7LvKbqA"
   },
   "source": [
    "## Relevant Imports"
   ]
  },
  {
   "cell_type": "code",
   "execution_count": 33,
   "metadata": {
    "id": "rxHrXt_hJaOs"
   },
   "outputs": [],
   "source": [
    "import statsmodels.api as sm\n",
    "from statsmodels.formula.api import ols"
   ]
  },
  {
   "cell_type": "code",
   "execution_count": 34,
   "metadata": {
    "id": "s_SQqCVfMVev"
   },
   "outputs": [],
   "source": [
    "diamonds = pd.read_csv(\"diamonds.csv\")"
   ]
  },
  {
   "cell_type": "markdown",
   "metadata": {
    "id": "YAGIC9PYMZrE"
   },
   "source": [
    "## One-way ANOVA"
   ]
  },
  {
   "cell_type": "code",
   "execution_count": 35,
   "metadata": {
    "id": "_WnbWK-oMYWw"
   },
   "outputs": [],
   "source": [
    "model = ols(formula = \"log_price ~ C(color)\", data = diamonds).fit()"
   ]
  },
  {
   "cell_type": "code",
   "execution_count": 36,
   "metadata": {
    "colab": {
     "base_uri": "https://localhost:8080/",
     "height": 507
    },
    "executionInfo": {
     "elapsed": 12,
     "status": "ok",
     "timestamp": 1660057738792,
     "user": {
      "displayName": "Rebecca Weng",
      "userId": "08002348150894593460"
     },
     "user_tz": 240
    },
    "id": "fKdKmnQ3JsD_",
    "outputId": "b6259be6-969e-4f42-9bf0-9600dd766ed8"
   },
   "outputs": [
    {
     "data": {
      "text/html": [
       "<table class=\"simpletable\">\n",
       "<caption>OLS Regression Results</caption>\n",
       "<tr>\n",
       "  <th>Dep. Variable:</th>        <td>log_price</td>    <th>  R-squared:         </th> <td>   0.026</td> \n",
       "</tr>\n",
       "<tr>\n",
       "  <th>Model:</th>                   <td>OLS</td>       <th>  Adj. R-squared:    </th> <td>   0.026</td> \n",
       "</tr>\n",
       "<tr>\n",
       "  <th>Method:</th>             <td>Least Squares</td>  <th>  F-statistic:       </th> <td>   265.0</td> \n",
       "</tr>\n",
       "<tr>\n",
       "  <th>Date:</th>             <td>Tue, 27 Aug 2024</td> <th>  Prob (F-statistic):</th> <td>3.61e-225</td>\n",
       "</tr>\n",
       "<tr>\n",
       "  <th>Time:</th>                 <td>12:53:33</td>     <th>  Log-Likelihood:    </th> <td> -56182.</td> \n",
       "</tr>\n",
       "<tr>\n",
       "  <th>No. Observations:</th>      <td> 39840</td>      <th>  AIC:               </th> <td>1.124e+05</td>\n",
       "</tr>\n",
       "<tr>\n",
       "  <th>Df Residuals:</th>          <td> 39835</td>      <th>  BIC:               </th> <td>1.124e+05</td>\n",
       "</tr>\n",
       "<tr>\n",
       "  <th>Df Model:</th>              <td>     4</td>      <th>                     </th>     <td> </td>    \n",
       "</tr>\n",
       "<tr>\n",
       "  <th>Covariance Type:</th>      <td>nonrobust</td>    <th>                     </th>     <td> </td>    \n",
       "</tr>\n",
       "</table>\n",
       "<table class=\"simpletable\">\n",
       "<tr>\n",
       "        <td></td>           <th>coef</th>     <th>std err</th>      <th>t</th>      <th>P>|t|</th>  <th>[0.025</th>    <th>0.975]</th>  \n",
       "</tr>\n",
       "<tr>\n",
       "  <th>Intercept</th>     <td>    7.6169</td> <td>    0.012</td> <td>  632.421</td> <td> 0.000</td> <td>    7.593</td> <td>    7.641</td>\n",
       "</tr>\n",
       "<tr>\n",
       "  <th>C(color)[T.E]</th> <td>   -0.0375</td> <td>    0.016</td> <td>   -2.394</td> <td> 0.017</td> <td>   -0.068</td> <td>   -0.007</td>\n",
       "</tr>\n",
       "<tr>\n",
       "  <th>C(color)[T.F]</th> <td>    0.1455</td> <td>    0.016</td> <td>    9.240</td> <td> 0.000</td> <td>    0.115</td> <td>    0.176</td>\n",
       "</tr>\n",
       "<tr>\n",
       "  <th>C(color)[T.H]</th> <td>    0.3015</td> <td>    0.016</td> <td>   18.579</td> <td> 0.000</td> <td>    0.270</td> <td>    0.333</td>\n",
       "</tr>\n",
       "<tr>\n",
       "  <th>C(color)[T.I]</th> <td>    0.4061</td> <td>    0.018</td> <td>   22.479</td> <td> 0.000</td> <td>    0.371</td> <td>    0.441</td>\n",
       "</tr>\n",
       "</table>\n",
       "<table class=\"simpletable\">\n",
       "<tr>\n",
       "  <th>Omnibus:</th>       <td>7112.992</td> <th>  Durbin-Watson:     </th> <td>   0.065</td>\n",
       "</tr>\n",
       "<tr>\n",
       "  <th>Prob(Omnibus):</th>  <td> 0.000</td>  <th>  Jarque-Bera (JB):  </th> <td>1542.881</td>\n",
       "</tr>\n",
       "<tr>\n",
       "  <th>Skew:</th>           <td> 0.079</td>  <th>  Prob(JB):          </th> <td>    0.00</td>\n",
       "</tr>\n",
       "<tr>\n",
       "  <th>Kurtosis:</th>       <td> 2.049</td>  <th>  Cond. No.          </th> <td>    6.32</td>\n",
       "</tr>\n",
       "</table><br/><br/>Notes:<br/>[1] Standard Errors assume that the covariance matrix of the errors is correctly specified."
      ],
      "text/latex": [
       "\\begin{center}\n",
       "\\begin{tabular}{lclc}\n",
       "\\toprule\n",
       "\\textbf{Dep. Variable:}    &    log\\_price    & \\textbf{  R-squared:         } &     0.026   \\\\\n",
       "\\textbf{Model:}            &       OLS        & \\textbf{  Adj. R-squared:    } &     0.026   \\\\\n",
       "\\textbf{Method:}           &  Least Squares   & \\textbf{  F-statistic:       } &     265.0   \\\\\n",
       "\\textbf{Date:}             & Tue, 27 Aug 2024 & \\textbf{  Prob (F-statistic):} & 3.61e-225   \\\\\n",
       "\\textbf{Time:}             &     12:53:33     & \\textbf{  Log-Likelihood:    } &   -56182.   \\\\\n",
       "\\textbf{No. Observations:} &       39840      & \\textbf{  AIC:               } & 1.124e+05   \\\\\n",
       "\\textbf{Df Residuals:}     &       39835      & \\textbf{  BIC:               } & 1.124e+05   \\\\\n",
       "\\textbf{Df Model:}         &           4      & \\textbf{                     } &             \\\\\n",
       "\\textbf{Covariance Type:}  &    nonrobust     & \\textbf{                     } &             \\\\\n",
       "\\bottomrule\n",
       "\\end{tabular}\n",
       "\\begin{tabular}{lcccccc}\n",
       "                       & \\textbf{coef} & \\textbf{std err} & \\textbf{t} & \\textbf{P$> |$t$|$} & \\textbf{[0.025} & \\textbf{0.975]}  \\\\\n",
       "\\midrule\n",
       "\\textbf{Intercept}     &       7.6169  &        0.012     &   632.421  &         0.000        &        7.593    &        7.641     \\\\\n",
       "\\textbf{C(color)[T.E]} &      -0.0375  &        0.016     &    -2.394  &         0.017        &       -0.068    &       -0.007     \\\\\n",
       "\\textbf{C(color)[T.F]} &       0.1455  &        0.016     &     9.240  &         0.000        &        0.115    &        0.176     \\\\\n",
       "\\textbf{C(color)[T.H]} &       0.3015  &        0.016     &    18.579  &         0.000        &        0.270    &        0.333     \\\\\n",
       "\\textbf{C(color)[T.I]} &       0.4061  &        0.018     &    22.479  &         0.000        &        0.371    &        0.441     \\\\\n",
       "\\bottomrule\n",
       "\\end{tabular}\n",
       "\\begin{tabular}{lclc}\n",
       "\\textbf{Omnibus:}       & 7112.992 & \\textbf{  Durbin-Watson:     } &    0.065  \\\\\n",
       "\\textbf{Prob(Omnibus):} &   0.000  & \\textbf{  Jarque-Bera (JB):  } & 1542.881  \\\\\n",
       "\\textbf{Skew:}          &   0.079  & \\textbf{  Prob(JB):          } &     0.00  \\\\\n",
       "\\textbf{Kurtosis:}      &   2.049  & \\textbf{  Cond. No.          } &     6.32  \\\\\n",
       "\\bottomrule\n",
       "\\end{tabular}\n",
       "%\\caption{OLS Regression Results}\n",
       "\\end{center}\n",
       "\n",
       "Notes: \\newline\n",
       " [1] Standard Errors assume that the covariance matrix of the errors is correctly specified."
      ],
      "text/plain": [
       "<class 'statsmodels.iolib.summary.Summary'>\n",
       "\"\"\"\n",
       "                            OLS Regression Results                            \n",
       "==============================================================================\n",
       "Dep. Variable:              log_price   R-squared:                       0.026\n",
       "Model:                            OLS   Adj. R-squared:                  0.026\n",
       "Method:                 Least Squares   F-statistic:                     265.0\n",
       "Date:                Tue, 27 Aug 2024   Prob (F-statistic):          3.61e-225\n",
       "Time:                        12:53:33   Log-Likelihood:                -56182.\n",
       "No. Observations:               39840   AIC:                         1.124e+05\n",
       "Df Residuals:                   39835   BIC:                         1.124e+05\n",
       "Df Model:                           4                                         \n",
       "Covariance Type:            nonrobust                                         \n",
       "=================================================================================\n",
       "                    coef    std err          t      P>|t|      [0.025      0.975]\n",
       "---------------------------------------------------------------------------------\n",
       "Intercept         7.6169      0.012    632.421      0.000       7.593       7.641\n",
       "C(color)[T.E]    -0.0375      0.016     -2.394      0.017      -0.068      -0.007\n",
       "C(color)[T.F]     0.1455      0.016      9.240      0.000       0.115       0.176\n",
       "C(color)[T.H]     0.3015      0.016     18.579      0.000       0.270       0.333\n",
       "C(color)[T.I]     0.4061      0.018     22.479      0.000       0.371       0.441\n",
       "==============================================================================\n",
       "Omnibus:                     7112.992   Durbin-Watson:                   0.065\n",
       "Prob(Omnibus):                  0.000   Jarque-Bera (JB):             1542.881\n",
       "Skew:                           0.079   Prob(JB):                         0.00\n",
       "Kurtosis:                       2.049   Cond. No.                         6.32\n",
       "==============================================================================\n",
       "\n",
       "Notes:\n",
       "[1] Standard Errors assume that the covariance matrix of the errors is correctly specified.\n",
       "\"\"\""
      ]
     },
     "execution_count": 36,
     "metadata": {},
     "output_type": "execute_result"
    }
   ],
   "source": [
    "model.summary()"
   ]
  },
  {
   "cell_type": "code",
   "execution_count": 37,
   "metadata": {
    "colab": {
     "base_uri": "https://localhost:8080/",
     "height": 112
    },
    "executionInfo": {
     "elapsed": 236,
     "status": "ok",
     "timestamp": 1660057747562,
     "user": {
      "displayName": "Rebecca Weng",
      "userId": "08002348150894593460"
     },
     "user_tz": 240
    },
    "id": "kLBMPs-XMXI1",
    "outputId": "139eaaee-567c-4d82-b33f-22962ee90304"
   },
   "outputs": [
    {
     "data": {
      "text/html": [
       "<div>\n",
       "<style scoped>\n",
       "    .dataframe tbody tr th:only-of-type {\n",
       "        vertical-align: middle;\n",
       "    }\n",
       "\n",
       "    .dataframe tbody tr th {\n",
       "        vertical-align: top;\n",
       "    }\n",
       "\n",
       "    .dataframe thead th {\n",
       "        text-align: right;\n",
       "    }\n",
       "</style>\n",
       "<table border=\"1\" class=\"dataframe\">\n",
       "  <thead>\n",
       "    <tr style=\"text-align: right;\">\n",
       "      <th></th>\n",
       "      <th>sum_sq</th>\n",
       "      <th>df</th>\n",
       "      <th>F</th>\n",
       "      <th>PR(&gt;F)</th>\n",
       "    </tr>\n",
       "  </thead>\n",
       "  <tbody>\n",
       "    <tr>\n",
       "      <th>C(color)</th>\n",
       "      <td>1041.690290</td>\n",
       "      <td>4.0</td>\n",
       "      <td>264.987395</td>\n",
       "      <td>3.609774e-225</td>\n",
       "    </tr>\n",
       "    <tr>\n",
       "      <th>Residual</th>\n",
       "      <td>39148.779822</td>\n",
       "      <td>39835.0</td>\n",
       "      <td>NaN</td>\n",
       "      <td>NaN</td>\n",
       "    </tr>\n",
       "  </tbody>\n",
       "</table>\n",
       "</div>"
      ],
      "text/plain": [
       "                sum_sq       df           F         PR(>F)\n",
       "C(color)   1041.690290      4.0  264.987395  3.609774e-225\n",
       "Residual  39148.779822  39835.0         NaN            NaN"
      ]
     },
     "execution_count": 37,
     "metadata": {},
     "output_type": "execute_result"
    }
   ],
   "source": [
    "# one-way ANOVA\n",
    "sm.stats.anova_lm(model, typ=2)"
   ]
  },
  {
   "cell_type": "markdown",
   "metadata": {
    "id": "zcylrOfJKY7o"
   },
   "source": [
    "## Tukey's HSD (honestly significantly different) test"
   ]
  },
  {
   "cell_type": "code",
   "execution_count": 38,
   "metadata": {
    "id": "aCBP4UlnN6rq"
   },
   "outputs": [],
   "source": [
    "from statsmodels.stats.multicomp import pairwise_tukeyhsd"
   ]
  },
  {
   "cell_type": "code",
   "execution_count": 39,
   "metadata": {
    "id": "bE1p6SCeN-HC"
   },
   "outputs": [],
   "source": [
    "tukey_oneway = pairwise_tukeyhsd(endog = diamonds[\"log_price\"], groups = diamonds[\"color\"], alpha = 0.05)"
   ]
  },
  {
   "cell_type": "code",
   "execution_count": 40,
   "metadata": {
    "colab": {
     "base_uri": "https://localhost:8080/",
     "height": 284
    },
    "executionInfo": {
     "elapsed": 15,
     "status": "ok",
     "timestamp": 1660057902261,
     "user": {
      "displayName": "Rebecca Weng",
      "userId": "08002348150894593460"
     },
     "user_tz": 240
    },
    "id": "3jpeAcEUODpl",
    "outputId": "e2cc1876-e0eb-4454-c0f4-0607db3b4992"
   },
   "outputs": [
    {
     "data": {
      "text/html": [
       "<table class=\"simpletable\">\n",
       "<caption>Multiple Comparison of Means - Tukey HSD, FWER=0.05</caption>\n",
       "<tr>\n",
       "  <th>group1</th> <th>group2</th> <th>meandiff</th>  <th>p-adj</th>  <th>lower</th>   <th>upper</th> <th>reject</th>\n",
       "</tr>\n",
       "<tr>\n",
       "     <td>D</td>      <td>E</td>    <td>-0.0375</td> <td>0.1169</td> <td>-0.0802</td> <td>0.0052</td>  <td>False</td>\n",
       "</tr>\n",
       "<tr>\n",
       "     <td>D</td>      <td>F</td>    <td>0.1455</td>    <td>0.0</td>  <td>0.1026</td>  <td>0.1885</td>  <td>True</td> \n",
       "</tr>\n",
       "<tr>\n",
       "     <td>D</td>      <td>H</td>    <td>0.3015</td>    <td>0.0</td>  <td>0.2573</td>  <td>0.3458</td>  <td>True</td> \n",
       "</tr>\n",
       "<tr>\n",
       "     <td>D</td>      <td>I</td>    <td>0.4061</td>    <td>0.0</td>  <td>0.3568</td>  <td>0.4553</td>  <td>True</td> \n",
       "</tr>\n",
       "<tr>\n",
       "     <td>E</td>      <td>F</td>     <td>0.183</td>    <td>0.0</td>  <td>0.1441</td>  <td>0.2219</td>  <td>True</td> \n",
       "</tr>\n",
       "<tr>\n",
       "     <td>E</td>      <td>H</td>     <td>0.339</td>    <td>0.0</td>  <td>0.2987</td>  <td>0.3794</td>  <td>True</td> \n",
       "</tr>\n",
       "<tr>\n",
       "     <td>E</td>      <td>I</td>    <td>0.4436</td>    <td>0.0</td>  <td>0.3978</td>  <td>0.4893</td>  <td>True</td> \n",
       "</tr>\n",
       "<tr>\n",
       "     <td>F</td>      <td>H</td>     <td>0.156</td>    <td>0.0</td>  <td>0.1154</td>  <td>0.1966</td>  <td>True</td> \n",
       "</tr>\n",
       "<tr>\n",
       "     <td>F</td>      <td>I</td>    <td>0.2605</td>    <td>0.0</td>  <td>0.2145</td>  <td>0.3065</td>  <td>True</td> \n",
       "</tr>\n",
       "<tr>\n",
       "     <td>H</td>      <td>I</td>    <td>0.1045</td>    <td>0.0</td>  <td>0.0573</td>  <td>0.1517</td>  <td>True</td> \n",
       "</tr>\n",
       "</table>"
      ],
      "text/latex": [
       "\\begin{center}\n",
       "\\begin{tabular}{ccccccc}\n",
       "\\toprule\n",
       "\\textbf{group1} & \\textbf{group2} & \\textbf{meandiff} & \\textbf{p-adj} & \\textbf{lower} & \\textbf{upper} & \\textbf{reject}  \\\\\n",
       "\\midrule\n",
       "       D        &        E        &      -0.0375      &     0.1169     &    -0.0802     &     0.0052     &      False       \\\\\n",
       "       D        &        F        &       0.1455      &      0.0       &     0.1026     &     0.1885     &       True       \\\\\n",
       "       D        &        H        &       0.3015      &      0.0       &     0.2573     &     0.3458     &       True       \\\\\n",
       "       D        &        I        &       0.4061      &      0.0       &     0.3568     &     0.4553     &       True       \\\\\n",
       "       E        &        F        &       0.183       &      0.0       &     0.1441     &     0.2219     &       True       \\\\\n",
       "       E        &        H        &       0.339       &      0.0       &     0.2987     &     0.3794     &       True       \\\\\n",
       "       E        &        I        &       0.4436      &      0.0       &     0.3978     &     0.4893     &       True       \\\\\n",
       "       F        &        H        &       0.156       &      0.0       &     0.1154     &     0.1966     &       True       \\\\\n",
       "       F        &        I        &       0.2605      &      0.0       &     0.2145     &     0.3065     &       True       \\\\\n",
       "       H        &        I        &       0.1045      &      0.0       &     0.0573     &     0.1517     &       True       \\\\\n",
       "\\bottomrule\n",
       "\\end{tabular}\n",
       "%\\caption{Multiple Comparison of Means - Tukey HSD, FWER=0.05}\n",
       "\\end{center}"
      ],
      "text/plain": [
       "<class 'statsmodels.iolib.table.SimpleTable'>"
      ]
     },
     "execution_count": 40,
     "metadata": {},
     "output_type": "execute_result"
    }
   ],
   "source": [
    "tukey_oneway.summary()"
   ]
  },
  {
   "cell_type": "markdown",
   "metadata": {
    "id": "RGJyFtOyLGZB"
   },
   "source": [
    "Each row represents a pariwise comparison between the prices of two diamond color grades. The `reject` column tells us which null hypotheses we can reject. Based on the values in that column, we can reject each null hypothesis, except when comparing D and E color diamonds. We cannot reject the null hypothesis that the diamond price of D and E color diamonds are the same."
   ]
  }
 ],
 "metadata": {
  "colab": {
   "collapsed_sections": [
    "WqRArh40Fws2"
   ],
   "provenance": [
    {
     "file_id": "1uxxNcL3HAfiTA3FqVv8mD2d6HK9UOCps",
     "timestamp": 1664214275387
    },
    {
     "file_id": "1y9c5i7JXL7rPbYGUvrHHcHQ5LeIsxU2B",
     "timestamp": 1660058389849
    },
    {
     "file_id": "1N3GhKR-VG46F8mh4HitG2ME6lQSK6g15",
     "timestamp": 1659977630535
    }
   ]
  },
  "kernelspec": {
   "display_name": "Python 3 (ipykernel)",
   "language": "python",
   "name": "python3"
  },
  "language_info": {
   "codemirror_mode": {
    "name": "ipython",
    "version": 3
   },
   "file_extension": ".py",
   "mimetype": "text/x-python",
   "name": "python",
   "nbconvert_exporter": "python",
   "pygments_lexer": "ipython3",
   "version": "3.11.7"
  }
 },
 "nbformat": 4,
 "nbformat_minor": 4
}
